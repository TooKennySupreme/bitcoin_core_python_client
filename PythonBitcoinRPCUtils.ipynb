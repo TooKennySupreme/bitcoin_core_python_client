{
 "cells": [
  {
   "cell_type": "markdown",
   "metadata": {
    "collapsed": true
   },
   "source": [
    "<h1>Utility Methods for Bitcoin Network and Bitcoin Blockchain</h1>"
   ]
  },
  {
   "cell_type": "markdown",
   "metadata": {},
   "source": [
    "<h2>Structure of Block</h2>\n",
    "<h4>Block Header</h4>\n",
    "<p>\n",
    "[4 Bytes (Mainnet: F9 BE B4 D9 or 0xD9B4BEF9, Testnet: FA BF B5 DA or 0xDAB5BFFA)] Magic ID<br>\n",
    "[4 Bytes] Block length<br>\n",
    "[4 Bytes] Version<br>\n",
    "[32 Bytes] Previous Block Hash<br>\n",
    "[32 Bytes] Merkle Tree Root<br>\n",
    "[4 Bytes] Timestamp<br>\n",
    "[4 Bytes] Bits<br>\n",
    "[4 Bytes] Nounce<br>\n",
    "[less than 0xfd is 1 byte, 0xfd is 2 bytes, 0xfe is 4 bytes, 0xff is 8 bytes] Size of Number of Transactions<br>\n",
    "[1-8 Bytes] Number of Transactions<br>\n",
    "</p>\n",
    "\n",
    "<h4>P2PKH Transaction Format With Example</h4>\n",
    "<p>\n",
    "01 00 00 00 version (1)<br>\n",
    "01 number of inputs<br>\n",
    "7f 95 0a b7 90 83 8e 0c 05 e7 98 56 d2 5d 58 68 23 fe 13 9e 18 07 40 5a 3f 20 7f f3 3f 9b 76 63 previous tx hash<br>\n",
    "01 00 00 00<br>\n",
    "6b script length (107 bytes)<br>\n",
    "48 sig length (72 bytes)<br>\n",
    "30 DER<br>\n",
    "45 length of sig ECDSA (69)<br>\n",
    "02 int type<br>\n",
    "21 length of R (33 bytes)<br>\n",
    "00 d8 62 94 03 cd 3b 49 95 0d a9 29 36 53 c6 27 91 49 c0 29 e6 b7 b1 53 71 34 2d 0d 2c e2 86 c8 f2 (R)<br>\n",
    "02 int type<br>\n",
    "20 length of S (32 bytes)<br>\n",
    "78 78 79 85 a6 44 e9 4f d9 24 6f 6c 25 73 33 36 c9 4a f5 f0 0d 9d 34 a0 7d c2 f9 e0 98 7e f9 90<br>\n",
    "01 SIGHASH_ALL<br>\n",
    "21 length of pubkey (33 bytes)<br>\n",
    "02 public key type (0x2 is compressed pubkey(x) with even y, 0x3 is compressed pubkey(x) with odd y, 0x4 full pubkey)<br>\n",
    "b7 26 d7 ea e1 1a 6d 5c f3 b2 36 2e 77 3e 11 6a 61 40 34 7d ce e1 b2 94 3f 4a 28 97 35 1e 5d 90 (pubkey)<br>\n",
    "ff ff ff ff Sequence<br>\n",
    "02 number of outputs<br>\n",
    "1b f0 3c 00 00 00 00 00 Value (3993627 santoshi)<br>\n",
    "17 lenght of scriptPubKey (23 bytes)<br>\n",
    "a9 OP_HASH160<br>\n",
    "14 Hash size (20 which is 160 bits)<br>\n",
    "69 f3 75 73 80 a5 68 20 ab c7 05 28 67 21 65 99 e5 75 cd dd Hash160<br>\n",
    "87 OP_EQUAL<br>\n",
    "77 c1 ca 1c 00 00 00 00 Value ()<br>\n",
    "19 length of scriptPubKey (25 bytes)<br>\n",
    "76 OP_DUP<br>\n",
    "a9 OP_HASH160<br>\n",
    "14 Hash size (20)<br>\n",
    "d5 f9 50 ab e0 b5 59 b2 b7 a7 ab 3d 18 a5 07 ea 1c 3e 4a c6 Hash160<br>\n",
    "88 OP_EQUALVERIFY<br>\n",
    "ac OP_CHECKSIG<br>\n",
    "00 00 00 00 Lock time<br>\n",
    "</p>\n",
    "<h2>Building important Methods and Constants</h2>\n",
    "<p> Values in Bitcoin network is in Little Endian while most tools accepts and returns Big Endian values. This is taken care in below program</p>\n",
    "<br>"
   ]
  },
  {
   "cell_type": "code",
   "execution_count": 8,
   "metadata": {
    "collapsed": true
   },
   "outputs": [],
   "source": [
    "import hashlib\n",
    "from bitcoinrpc.authproxy import AuthServiceProxy, JSONRPCException\n",
    "import simplejson as json\n",
    "import binascii\n",
    "import base58\n",
    "import ecdsa\n",
    "from pycoin.ecdsa.numbertheory import modular_sqrt\n",
    "import pycoin\n",
    "import pandas as pd\n",
    "import sys\n",
    "\n",
    "# Add correct Bitcoin Address\n",
    "myaddress = 'xxxxxxxxxxxxxxxxxxxxxxxxx'\n",
    "\n",
    "rpc_connection = AuthServiceProxy(\"http://%s:%s@127.0.0.1:8332\"%('alice', 'passw0rd'))\n",
    "\n",
    "SANTOSIS_IN_BTC = 10**8\n",
    "\n",
    "DIFFICULTY_1 = 0x00ffff * (256 ** 26)\n",
    "\n",
    "# Target Difficulty set every 2016 blocks\n",
    "TARGET_DIFFICULTY_SET_EVERY = 2016\n",
    "\n",
    "# Every Block Height at which Block Reward becomes Half\n",
    "BLOCK_REWARD_HALVING = 210000\n",
    "BLOCK_REWARD_1 = 50 * SANTOSIS_IN_BTC\n",
    "\n",
    "def hash2LittleEndian2LittleEndian(a:str, b:str):\n",
    "     # Reverse inputs before and after hashing due to big-endian / little-endian nonsense\n",
    "     a1 = binascii.unhexlify(a)[::-1]\n",
    "     b1 = binascii.unhexlify(b)[::-1]\n",
    "     h = hashlib.sha256(hashlib.sha256(a1 + b1).digest()).digest()\n",
    "     return binascii.hexlify(h[::-1])\n",
    "\n",
    "def hashBigEndian2LittleEndian(a: str):\n",
    "     h = hashlib.sha256(hashlib.sha256(bytes.fromhex(a)).digest()).digest()\n",
    "     return binascii.hexlify(h[::-1])\n",
    "\n",
    "def double_sha256d(bstr):\n",
    "    return hashlib.sha256(hashlib.sha256(bstr).digest()).digest()\n"
   ]
  },
  {
   "cell_type": "markdown",
   "metadata": {},
   "source": [
    "<h2>Finding Blockchain Related Information</h2>\n",
    "<br>"
   ]
  },
  {
   "cell_type": "code",
   "execution_count": 9,
   "metadata": {
    "collapsed": true
   },
   "outputs": [],
   "source": [
    "def getCurrentBlockHeight():\n",
    "    current_block_height = rpc_connection.getblockcount()\n",
    "    return current_block_height"
   ]
  },
  {
   "cell_type": "code",
   "execution_count": 10,
   "metadata": {},
   "outputs": [],
   "source": [
    "def getCurrentBlockReward():\n",
    "    block_height = getCurrentBlockHeight()\n",
    "    block_halving_count = int(block_height / BLOCK_REWARD_HALVING)\n",
    "    current_block_reward = BLOCK_REWARD_1 / (2 ** block_halving_count)\n",
    "    return current_block_reward"
   ]
  },
  {
   "cell_type": "code",
   "execution_count": 7,
   "metadata": {
    "collapsed": true
   },
   "outputs": [],
   "source": [
    "def getCurrentBitcoinInCirculation():\n",
    "    block_height = getCurrentBlockHeight()\n",
    "    block_halving_count = int(block_height / BLOCK_REWARD_HALVING)\n",
    "    block_reward = BLOCK_REWARD_1 / SANTOSIS_IN_BTC\n",
    "    bitcoin_in_circulation = 0\n",
    "    for block_halfing_index in range(block_halving_count):\n",
    "        bitcoin_in_circulation += (BLOCK_REWARD_HALVING * block_reward)\n",
    "        block_reward = block_reward / 2\n",
    "    bitcoin_in_circulation += (block_height % BLOCK_REWARD_HALVING) * block_reward\n",
    "    return bitcoin_in_circulation"
   ]
  },
  {
   "cell_type": "code",
   "execution_count": null,
   "metadata": {
    "collapsed": true
   },
   "outputs": [],
   "source": []
  }
 ],
 "metadata": {
  "celltoolbar": "Edit Metadata",
  "kernelspec": {
   "display_name": "Python 3",
   "language": "python",
   "name": "python3"
  },
  "language_info": {
   "codemirror_mode": {
    "name": "ipython",
    "version": 3
   },
   "file_extension": ".py",
   "mimetype": "text/x-python",
   "name": "python",
   "nbconvert_exporter": "python",
   "pygments_lexer": "ipython3",
   "version": "3.6.1"
  },
  "toc": {
   "base_numbering": 1,
   "nav_menu": {},
   "number_sections": true,
   "sideBar": true,
   "skip_h1_title": true,
   "title_cell": "Table of Contents",
   "title_sidebar": "Contents",
   "toc_cell": false,
   "toc_position": {},
   "toc_section_display": true,
   "toc_window_display": true
  }
 },
 "nbformat": 4,
 "nbformat_minor": 2
}
