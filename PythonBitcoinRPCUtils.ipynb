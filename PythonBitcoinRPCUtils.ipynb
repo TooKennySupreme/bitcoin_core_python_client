{
 "cells": [
  {
   "cell_type": "markdown",
   "metadata": {
    "collapsed": true
   },
   "source": [
    "<h1>Utility Methods for Bitcoin Network and Bitcoin Blockchain</h1>"
   ]
  },
  {
   "cell_type": "markdown",
   "metadata": {},
   "source": [
    "<h2>Structure of Block</h2>\n",
    "<h4>Block Header</h4>\n",
    "<p>\n",
    "[4 Bytes (Mainnet: F9 BE B4 D9 or 0xD9B4BEF9, Testnet: FA BF B5 DA or 0xDAB5BFFA)] Magic ID<br>\n",
    "[4 Bytes] Block length<br>\n",
    "[4 Bytes] Version<br>\n",
    "[32 Bytes] Previous Block Hash<br>\n",
    "[32 Bytes] Merkle Tree Root<br>\n",
    "[4 Bytes] Timestamp<br>\n",
    "[4 Bytes] bits<br>\n",
    "[4 Bytes] Nounce<br>\n",
    "[less than 0xfd is 1 byte, 0xfd is 2 bytes, 0xfe is 4 bytes, 0xff is 8 bytes] Size of Number of Transactions<br>\n",
    "[1-8 Bytes] Number of Transactions<br>\n",
    "</p>\n",
    "\n",
    "<h4>P2PKH Transaction Format With Example</h4>\n",
    "<p>\n",
    "01 00 00 00 version (1)<br>\n",
    "01 number of inputs<br>\n",
    "7f 95 0a b7 90 83 8e 0c 05 e7 98 56 d2 5d 58 68 23 fe 13 9e 18 07 40 5a 3f 20 7f f3 3f 9b 76 63 previous tx hash<br>\n",
    "01 00 00 00<br>\n",
    "6b script length (107 bytes)<br>\n",
    "48 sig length (72 bytes)<br>\n",
    "30 DER<br>\n",
    "45 length of sig ECDSA (69)<br>\n",
    "02 int type<br>\n",
    "21 length of R (33 bytes)<br>\n",
    "00 d8 62 94 03 cd 3b 49 95 0d a9 29 36 53 c6 27 91 49 c0 29 e6 b7 b1 53 71 34 2d 0d 2c e2 86 c8 f2 (R)<br>\n",
    "02 int type<br>\n",
    "20 length of S (32 bytes)<br>\n",
    "78 78 79 85 a6 44 e9 4f d9 24 6f 6c 25 73 33 36 c9 4a f5 f0 0d 9d 34 a0 7d c2 f9 e0 98 7e f9 90<br>\n",
    "01 SIGHASH_ALL<br>\n",
    "21 length of pubkey (33 bytes)<br>\n",
    "02 public key type (0x2 is compressed pubkey(x) with even y, 0x3 is compressed pubkey(x) with odd y, 0x4 full pubkey)<br>\n",
    "b7 26 d7 ea e1 1a 6d 5c f3 b2 36 2e 77 3e 11 6a 61 40 34 7d ce e1 b2 94 3f 4a 28 97 35 1e 5d 90 (pubkey)<br>\n",
    "ff ff ff ff Sequence<br>\n",
    "02 number of outputs<br>\n",
    "1b f0 3c 00 00 00 00 00 Value (3993627 santoshi)<br>\n",
    "17 lenght of scriptPubKey (23 bytes)<br>\n",
    "a9 OP_HASH160<br>\n",
    "14 Hash size (20 which is 160 bits)<br>\n",
    "69 f3 75 73 80 a5 68 20 ab c7 05 28 67 21 65 99 e5 75 cd dd Hash160<br>\n",
    "87 OP_EQUAL<br>\n",
    "77 c1 ca 1c 00 00 00 00 Value ()<br>\n",
    "19 length of scriptPubKey (25 bytes)<br>\n",
    "76 OP_DUP<br>\n",
    "a9 OP_HASH160<br>\n",
    "14 Hash size (20)<br>\n",
    "d5 f9 50 ab e0 b5 59 b2 b7 a7 ab 3d 18 a5 07 ea 1c 3e 4a c6 Hash160<br>\n",
    "88 OP_EQUALVERIFY<br>\n",
    "ac OP_CHECKSIG<br>\n",
    "00 00 00 00 Lock time<br>\n",
    "</p>\n",
    "<h2>Building important Methods and Constants</h2>\n",
    "<p> Values in Bitcoin network is in Little Endian while most tools accepts and returns Big Endian values. This is taken care in below program</p>\n",
    "<br>"
   ]
  },
  {
   "cell_type": "code",
   "execution_count": 20,
   "metadata": {
    "collapsed": true
   },
   "outputs": [],
   "source": [
    "import hashlib\n",
    "from bitcoinrpc.authproxy import AuthServiceProxy, JSONRPCException\n",
    "import simplejson as json\n",
    "import binascii\n",
    "import base58\n",
    "import ecdsa\n",
    "from pycoin.ecdsa.numbertheory import modular_sqrt\n",
    "import pycoin\n",
    "import pandas as pd\n",
    "import sys\n",
    "\n",
    "# Add correct Bitcoin Address\n",
    "myaddress = '1A1zP1eP5QGefi2DMPTfTL5SLmv7DivfNa'\n",
    "\n",
    "rpc_connection = AuthServiceProxy(\"http://%s:%s@127.0.0.1:8332\"%('alice', 'passw0rd'))\n",
    "\n",
    "SANTOSIS_IN_BTC = 10**8\n",
    "\n",
    "N_TIME_1 = 1231006505\n",
    "\n",
    "nBits_1 = 0x1d00ffff\n",
    "#TARGET_THRESHOLD_1 = 0x00ffff * (256 ** 26) #0x00ffff * (256 ** (0x1d-3)) = 0x00ffff * (256 ** (29-3)) = 0x00ffff * (256 ** 26)\n",
    "TARGET_THRESHOLD_1 = (0x00ffff << (8 * (0x1d - 3)))\n",
    "\n",
    "# Target Difficulty set every 2016 blocks\n",
    "TARGET_DIFFICULTY_SET_EVERY = 2016\n",
    "\n",
    "# Every Block Height at which Block Reward becomes Half\n",
    "BLOCK_REWARD_HALVING = 210000\n",
    "BLOCK_REWARD_1 = 50 * SANTOSIS_IN_BTC\n",
    "\n",
    "def hash2LittleEndian2LittleEndian(a:str, b:str):\n",
    "     # Reverse inputs before and after hashing due to big-endian / little-endian nonsense\n",
    "     a1 = binascii.unhexlify(a)[::-1]\n",
    "     b1 = binascii.unhexlify(b)[::-1]\n",
    "     h = hashlib.sha256(hashlib.sha256(a1 + b1).digest()).digest()\n",
    "     return binascii.hexlify(h[::-1])\n",
    "\n",
    "def hashBigEndian2LittleEndian(a: str):\n",
    "     h = hashlib.sha256(hashlib.sha256(bytes.fromhex(a)).digest()).digest()\n",
    "     return binascii.hexlify(h[::-1])\n",
    "\n",
    "def double_sha256d(bstr):\n",
    "    return hashlib.sha256(hashlib.sha256(bstr).digest()).digest()\n"
   ]
  },
  {
   "cell_type": "markdown",
   "metadata": {},
   "source": [
    "<h2>Finding Blockchain Related Information</h2>\n",
    "<br>"
   ]
  },
  {
   "cell_type": "code",
   "execution_count": 9,
   "metadata": {
    "collapsed": true
   },
   "outputs": [],
   "source": [
    "def getCurrentBlockHeight():\n",
    "    current_block_height = rpc_connection.getblockcount() # I'll try to get current block height from .bitcoin/blocks\n",
    "    return current_block_height"
   ]
  },
  {
   "cell_type": "code",
   "execution_count": 10,
   "metadata": {
    "collapsed": true
   },
   "outputs": [],
   "source": [
    "def getCurrentBlockReward():\n",
    "    block_height = getCurrentBlockHeight()\n",
    "    block_halving_count = int(block_height / BLOCK_REWARD_HALVING)\n",
    "    #current_block_reward = BLOCK_REWARD_1 / (2 ** block_halving_count) # we can also use bitwise shift operator\n",
    "    current_block_reward = (BLOCK_REWARD_1 >> block_halving_count)\n",
    "    return current_block_reward"
   ]
  },
  {
   "cell_type": "code",
   "execution_count": 7,
   "metadata": {
    "collapsed": true
   },
   "outputs": [],
   "source": [
    "def getCurrentBitcoinInCirculation():\n",
    "    block_height = getCurrentBlockHeight()\n",
    "    block_halving_count = int(block_height / BLOCK_REWARD_HALVING)\n",
    "    block_reward = BLOCK_REWARD_1 / SANTOSIS_IN_BTC\n",
    "    bitcoin_in_circulation = 0\n",
    "    for block_halfing_index in range(block_halving_count):\n",
    "        bitcoin_in_circulation += (BLOCK_REWARD_HALVING * block_reward)\n",
    "#        block_reward = block_reward / 2 # we can also use bitwise shift operator\n",
    "        block_reward = (block_reward >> 1)\n",
    "    bitcoin_in_circulation += (block_height % BLOCK_REWARD_HALVING) * block_reward\n",
    "    return bitcoin_in_circulation"
   ]
  },
  {
   "cell_type": "code",
   "execution_count": 1,
   "metadata": {
    "collapsed": true
   },
   "outputs": [],
   "source": [
    "def getBitcoinCirculationLimit():\n",
    "    block_reward = BLOCK_REWARD_1 / SANTOSIS_IN_BTC\n",
    "    bitcoin_in_circulation = 0\n",
    "    while block_reward != round((block_reward >> 1), 8):\n",
    "        bitcoin_in_circulation += (BLOCK_REWARD_HALVING * block_reward)\n",
    "        block_reward = (block_reward >> 1)\n",
    "    return bitcoin_in_circulation"
   ]
  },
  {
   "cell_type": "code",
   "execution_count": 3,
   "metadata": {
    "collapsed": true
   },
   "outputs": [],
   "source": [
    "def getDateToReachLimit():\n",
    "    block_reward = BLOCK_REWARD_1 / SANTOSIS_IN_BTC\n",
    "    block_halving_count = 0\n",
    "    while round(block_reward, 8) != round((block_reward >> 1), 8):\n",
    "        block_halving_count += 1\n",
    "        block_reward = (block_reward >> 1)\n",
    "    sec_to_mine_zero_reward_block = 10 * BLOCK_REWARD_HALVING * block_halving_count * 60\n",
    "    unix_sec = N_TIME_1 + sec_to_mine_zero_reward_block\n",
    "    time_of_zero_reward_block = datetime.datetime.fromtimestamp(unix_sec).strftime('%Y-%m-%d %H:%M:%S')\n",
    "    return time_of_zero_reward_block"
   ]
  },
  {
   "cell_type": "code",
   "execution_count": null,
   "metadata": {
    "collapsed": true
   },
   "outputs": [],
   "source": [
    "def getCurrentBlockchainSizeInGB():\n",
    "    blockchain_size = sum(os.path.getsize(f) for f in glob.glob(os.path.join(os.getenv('HOME'),'.bitcoin', 'blocks', 'blk0*.dat')))\n",
    "    return blockchain_size >> 30"
   ]
  },
  {
   "cell_type": "markdown",
   "metadata": {},
   "source": [
    "<h2>Finding Block Related Information</h2>\n",
    "<br>\n",
    "This section contains methods to generate blockhash to validate if block qualifies required target difficulty and to validate Merkel Root is correct. It also provide method for transaction count, transaction rate for a block, network fees collected etc."
   ]
  },
  {
   "cell_type": "markdown",
   "metadata": {},
   "source": [
    "<h4>Target Threshold calculation</h4>\n",
    "Definition: <i>The goal of the miner is to find a candidate block whose block hash is less than or equal to the target threshold</i><br>\n",
    "The 'bits' field in the block header encodes a 256-bit unsigned integer called the target threshold using a base 256 version of the scientific notation. Let b1 b2 b3 b4 be the four bytes in nBits. The first byte b1 plays the role of the exponent and the remaining three bytes encode the mantissa. The target threshold T is derived as<br>\n",
    "T = b2b3b4 × 256**(b1−3)<br>\n",
    "where b1 and b2 b3 b4 are interpreted as unsigned integers."
   ]
  },
  {
   "cell_type": "code",
   "execution_count": 4,
   "metadata": {
    "collapsed": true
   },
   "outputs": [],
   "source": [
    "def getTargetThreshold(hex_bits: bytes):\n",
    "        shift = '0x%s' % hex_bits[0:2]\n",
    "        shift_int = int(shift, 16)\n",
    "        value = '0x%s' % hex_bits[2:]\n",
    "        value_int = int(value, 16)\n",
    "#        target = value_int * 2 ** (8 * (shift_int - 3))\n",
    "        target = (value_int << (8 * (shift_int - 3)))\n",
    "        hex_target = hex(target)\n",
    "        return hex_target"
   ]
  },
  {
   "cell_type": "markdown",
   "metadata": {},
   "source": [
    "<h4>Network Hashrate Calculation</h4>\n",
    "Output of the SHA-256 function behaves like a random 256-bit string where each bit is equally likely to be 0 or 1 independently of the other bits, the probability that the block hash falls below the target threshold T for a trial nNonce value is<br>\n",
    "p = (T+1)/2^256\n",
    "<br>\n",
    "Average number of trials = 2^256/(T+1)<br>\n",
    "Let total network Hashrate is required to achieve this is R<br>\n",
    "It takes 10 min to mine 1 block which means the target threshold is achieved in 10 min. As R is calculated per seconds. R * 10 * 60 is required average number of trials. <br>So R is calculated as<br>\n",
    "R = 2^256/((T+1) * 600)"
   ]
  },
  {
   "cell_type": "code",
   "execution_count": 5,
   "metadata": {
    "collapsed": true
   },
   "outputs": [],
   "source": [
    "def getNetworkHashRate(block_height: int):\n",
    "        block = getBlock(block_height)\n",
    "        target_threshold = int(getTargetThreshold(block['bits']), 16)\n",
    "#        network_hashrate = (2 ** 256) / ((target_threshold + 1) * 600)\n",
    "        network_hashrate = (1 << 256) / ((target_threshold + 1) * 600)\n",
    "        return network_hashrate"
   ]
  },
  {
   "cell_type": "markdown",
   "metadata": {},
   "source": [
    "<h4>Difficulty Calculation</h4>\n",
    "Definition: <i>Difficulty is calculated as a ratio between intial target threshold and current target threshold</i>"
   ]
  },
  {
   "cell_type": "code",
   "execution_count": 6,
   "metadata": {
    "collapsed": true
   },
   "outputs": [],
   "source": [
    "def getDifficulty(block_height: int):\n",
    "        block = getBlock(block_height)\n",
    "        target_threshold = int(getTargetThreshold(block['bits']), 16)\n",
    "        difficulty = TARGET_THRESHOLD_1 / target_threshold\n",
    "\n",
    "        return difficulty"
   ]
  },
  {
   "cell_type": "markdown",
   "metadata": {},
   "source": [
    "<h4>Block Header Hash Calculation</h4>"
   ]
  },
  {
   "cell_type": "code",
   "execution_count": 16,
   "metadata": {
    "collapsed": true
   },
   "outputs": [],
   "source": [
    "def getBlockHeaderHash(block_header_in_hex):\n",
    "    header_hash = hashBigEndian2LittleEndian(block_header_in_hex)\n",
    "    return header_hash"
   ]
  },
  {
   "cell_type": "markdown",
   "metadata": {},
   "source": [
    "<h4>Next Target Threshold Calculation</h4>\n",
    "Next Target Threshold is calculated based on average block time in recent 2016 blocks and the current Target Threshold.<br>\n",
    "T_new = (T_old × Measured duration for finding 2,016 blocks in seconds) / (2016 × 600)"
   ]
  },
  {
   "cell_type": "code",
   "execution_count": 17,
   "metadata": {
    "collapsed": true
   },
   "outputs": [],
   "source": [
    "def calculateNextTargetThreashold(block_height: int):\n",
    "        # no change in target threshold\n",
    "        if (block_height + 1) % 2016 != 0:\n",
    "                block = getBlock(block_height)\n",
    "                target_threshold = int(getTargetThreshold(block['bits']), 16)\n",
    "                return target_threshold\n",
    "\n",
    "        n =  (block_height + 1) / 2016\n",
    "        b1 = 2016 * (n - 1)\n",
    "        b2 = 2016 * n - 1\n",
    "        block_t1 = getBlock(b1)\n",
    "        block_t2 = getBlock(b2)\n",
    "        t1 = block_t1['time']\n",
    "        t2 = block_t2['time']\n",
    "        target_threshold_old = int(getTargetThreshold(block_t2['bits']), 16)\n",
    "        time_diff = t2 - t1\n",
    "        target_threshold_new = (target_threshold_old * time_diff) / (2016 * 600)\n",
    "        return target_threshold_new\n"
   ]
  },
  {
   "cell_type": "markdown",
   "metadata": {},
   "source": [
    "<h4>Validate Merkle Tree Root From Transaction Hash List</h4>"
   ]
  },
  {
   "cell_type": "code",
   "execution_count": 9,
   "metadata": {
    "collapsed": true
   },
   "outputs": [],
   "source": [
    "def getBlockHash(block_height: int):\n",
    "        block_hash = rpc_connection.getblockhash(block_height)\n",
    "        return block_hash\n",
    "    \n",
    "def getBlock(block_height: int):\n",
    "        block_hash = getBlockHash(block_height)\n",
    "        block = rpc_connection.getblock(block_hash)\n",
    "        return block\n",
    "\n",
    "def build_merkle_root(hash_list: list):\n",
    "        if len(hash_list) < 2:\n",
    "            return hash_list[0]\n",
    "        new_hash_list = []\n",
    "\n",
    "        # Process pairs. For odd length, the last is skipped\n",
    "        for i in range(0, len(hash_list) - 1, 2):\n",
    "            new_hash_list.append(hash2LittleEndian2LittleEndian(hash_list[i], hash_list[i + 1]))\n",
    "\n",
    "        # odd, hash last item twice\n",
    "        if len(hash_list) % 2 == 1:\n",
    "            new_hash_list.append(hash2LittleEndian2LittleEndian(hash_list[-1], hash_list[-1]))\n",
    "\n",
    "        return build_merkle_root(new_hash_list)\n",
    "    \n",
    "def validate_merkle_tree_root(block_height: int):\n",
    "    block = getBlock(block_height)\n",
    "    merkel_root_in_block_header = block['merkleroot']\n",
    "    calculated_merkel_tree_root = build_merkle_root(block['tx'])\n",
    "    if merkel_root_in_block_header == calculated_merkel_tree_root:\n",
    "        return True"
   ]
  },
  {
   "cell_type": "markdown",
   "metadata": {},
   "source": [
    "<h4>Get Transaction Count in a Block</h4>\n",
    "Please refer to Block Structure"
   ]
  },
  {
   "cell_type": "code",
   "execution_count": 14,
   "metadata": {
    "collapsed": true
   },
   "outputs": [],
   "source": [
    "def getBlockHash(block_height: int):\n",
    "        block_hash = rpc_connection.getblockhash(block_height)\n",
    "        return block_hash\n",
    "    \n",
    "def getBlockInHex(block_height: int):\n",
    "        block_hash = getBlockHash(block_height)\n",
    "        block = rpc_connection.getblock(block_hash, False)\n",
    "        return block\n",
    "\n",
    "def getTxnCountInBlock(block_height: int):\n",
    "        block_hex = getBlockInHex(block_height)\n",
    "        indicator = int(block_hex[160:162], 16)\n",
    "\n",
    "        if indicator < 0xfd:\n",
    "                txn_count_str = block_hex[162:164]\n",
    "        elif indicator == 0xfd:\n",
    "                txn_count_str = block_hex[162:166]\n",
    "        elif indicator == 0xfe:\n",
    "                txn_count_str = block_hex[162:170]\n",
    "        else:\n",
    "                txn_count_str = block_hex[162:178]\n",
    "\n",
    "        txn_count = int(bytes.decode(binascii.hexlify(binascii.unhexlify(txn_count_str)[::-1])), 16)\n",
    "        return txn_count"
   ]
  },
  {
   "cell_type": "markdown",
   "metadata": {},
   "source": [
    "<h4>Get Actual Block Reward</h4>\n",
    "Miner gets Current Block reward based on regular halving of block reward after every 210000 blocks and network fees attached to each transactions added to the mined block"
   ]
  },
  {
   "cell_type": "code",
   "execution_count": null,
   "metadata": {
    "collapsed": true
   },
   "outputs": [],
   "source": [
    "def getActualBlockReward(block_height: int):\n",
    "        block = getBlock(block_height)\n",
    "        for txn_hash in getAllTxnsInBlock(block):\n",
    "                block_reward = 0.0\n",
    "                txn = getTransactionFromHash(txn_hash)\n",
    "                block_reward_is_set = False\n",
    "                block_reward = 0.0\n",
    "                for vin in txn['vin']:\n",
    "                        if 'coinbase' in vin:\n",
    "                                block_reward_is_set = True\n",
    "                                for vout in txn['vout']:\n",
    "                                        block_reward += float(vout['value'])\n",
    "                        if block_reward_is_set == True:\n",
    "                                break\n",
    "                if block_reward_is_set == True:\n",
    "                        break\n",
    "        return block_reward"
   ]
  },
  {
   "cell_type": "markdown",
   "metadata": {},
   "source": [
    "<h2>Script Parser</h2>"
   ]
  },
  {
   "cell_type": "markdown",
   "metadata": {},
   "source": [
    "<h3>Utility Methods for Script Parsing</h3>"
   ]
  },
  {
   "cell_type": "markdown",
   "metadata": {},
   "source": [
    "<h4>Get Hash160 encoded Public Key from Bitcoin Address</h4>"
   ]
  },
  {
   "cell_type": "code",
   "execution_count": 12,
   "metadata": {
    "collapsed": true
   },
   "outputs": [],
   "source": [
    "def getHash160FromAddress(address: str):\n",
    "        hash160_of_addr = bytes.decode(binascii.hexlify(base58.b58decode_check(address)))[2:]\n",
    "        return hash160_of_addr"
   ]
  },
  {
   "cell_type": "markdown",
   "metadata": {},
   "source": [
    "<h4>Get Address from Public Key</h4>"
   ]
  },
  {
   "cell_type": "code",
   "execution_count": 18,
   "metadata": {
    "collapsed": true
   },
   "outputs": [],
   "source": [
    "def double_sha256d(bstr):\n",
    "    return hashlib.sha256(hashlib.sha256(bstr).digest()).digest()\n",
    "\n",
    "def convertPKHToAddress(prefix, addr):\n",
    "    data = prefix + addr\n",
    "    return base58.b58encode(data + double_sha256d(data)[:4])\n",
    "\n",
    "def pubkeyToAddress(pubkey_hex):\n",
    "        pubkey = bytearray.fromhex(pubkey_hex)\n",
    "        round1 = hashlib.sha256(pubkey).digest()\n",
    "        h = hashlib.new('ripemd160')\n",
    "        h.update(round1)\n",
    "        pubkey_hash = h.digest()\n",
    "        return convertPKHToAddress(b'\\x00', pubkey_hash)"
   ]
  },
  {
   "cell_type": "markdown",
   "metadata": {},
   "source": [
    "<h4>Get Full Public Key from Compressed Public Key</h4>\n",
    "Bitcoin uses ECDSA (Elliptic Curve Digital Signature Algorithm) for signing and signature verification.<br>\n",
    "The elliptic curve domain parameters over Fp associated with a Koblitz curve secp256k1 are specified by the sextuple T = (p,a,b,G,n,h) where the finite field Fp is defined by:<br>\n",
    "p = FFFFFFFF FFFFFFFF FFFFFFFF FFFFFFFF FFFFFFFF FFFFFFFF FFFFFFFE FFFFFC2F = 2256 - 232 - 29 - 28 - 27 - 26 - 24 - 1<br><br>\n",
    "The curve E: y^2 = x^3+ax+b over Fp is defined by:<br>\n",
    "Here a = 0 and b = 7<br>\n",
    "So y^2 = x^3 + 7<br><br>\n",
    "Compressed format has prefix:<br>\n",
    "0x02+256_bit_x when y is even<br>\n",
    "0x03+256_bit_x when y is odd<br><br>\n",
    "Uncompressed format has prefix: <br>\n",
    "0x04+256_bit_x+256_bit_y"
   ]
  },
  {
   "cell_type": "code",
   "execution_count": null,
   "metadata": {
    "collapsed": true
   },
   "outputs": [],
   "source": [
    "def getFullPubKeyFromCompressed(x_str: str):\n",
    "        prefix = x_str[0:2]\n",
    "        print(\"prefix = %s\" % (prefix))\n",
    "        x_str = x_str[2:]\n",
    "        x = int(x_str, 16)\n",
    "        print(\"x = \\t\\t%x\" % (x))\n",
    "        p = 0xFFFFFFFFFFFFFFFFFFFFFFFFFFFFFFFFFFFFFFFFFFFFFFFFFFFFFFFEFFFFFC2F\n",
    "        y_squared = (x**3 + 7) % p\n",
    "        y = modular_sqrt(y_squared, p)\n",
    "        y_str = \"%x\" % y\n",
    "        print(\"y_str before = \\t%s\" % (y_str))\n",
    "        y_is_even = (int(y_str[-1], 16) % 2 == 0)\n",
    "        if prefix == \"02\" and y_is_even == False or prefix == \"03\" and y_is_even == True:\n",
    "                y = p - y\n",
    "                y_str = \"%x\" % y\n",
    "        if len(y_str) % 2 == 1:\n",
    "                y_str = \"0\" + y_str\n",
    "        print(\"y_str after = \\t%s\" % (y_str))\n",
    "        return \"04\" + x_str + y_str"
   ]
  },
  {
   "cell_type": "markdown",
   "metadata": {},
   "source": [
    "<h4>Verify Signature of Raw Transaction</h4>\n",
    "ECDSA Key is generated from public key. This Key is used to verify signature using double hashed public key."
   ]
  },
  {
   "cell_type": "code",
   "execution_count": null,
   "metadata": {
    "collapsed": true
   },
   "outputs": [],
   "source": [
    "def sigcheck(sig: str, pubkey: str, raw_txn: str):\n",
    "        hashval = binascii.hexlify(hashlib.sha256(bytes.fromhex(raw_txn)).digest())\n",
    "        print(\"hash val = %s\" % (hashval))\n",
    "        txn_sha256 = bytes.decode(hashval)\n",
    "        print(\"txn_sha256 = %s\" % (txn_sha256))\n",
    "\n",
    "        prefix = pubkey[0:2]\n",
    "        if prefix == \"02\" or prefix == \"03\":\n",
    "                pubkey = getFullPubKeyFromCompressed(pubkey)[2:]\n",
    "        elif prefix == \"04\":\n",
    "                pubkey = pubkey[2:]\n",
    "\n",
    "        print(\"full public key = %s\" % pubkey)\n",
    "        sig_b = bytes.fromhex(sig)\n",
    "        txn_sha256_b = bytes.fromhex(txn_sha256)\n",
    "        vk = ecdsa.VerifyingKey.from_string(bytes.fromhex(pubkey), curve=ecdsa.SECP256k1)\n",
    "        # We only provide single hashed txn not double because verify method again does hashing of this.\n",
    "        if vk.verify(sig_b, txn_sha256_b, hashlib.sha256) == True: # True\n",
    "                print(\"Signature is Valid\")\n",
    "        else:\n",
    "                print(\"Signature is not Valid\")"
   ]
  },
  {
   "cell_type": "markdown",
   "metadata": {},
   "source": [
    "<h3>Script Parser Implementation</h3>"
   ]
  },
  {
   "cell_type": "markdown",
   "metadata": {},
   "source": [
    "<h3>Transaction Parsing</h3>"
   ]
  },
  {
   "cell_type": "markdown",
   "metadata": {},
   "source": [
    "<h4>P2PKH</h4>"
   ]
  },
  {
   "cell_type": "markdown",
   "metadata": {},
   "source": [
    "<h4>P2SH</h4>"
   ]
  },
  {
   "cell_type": "markdown",
   "metadata": {},
   "source": [
    "<h4>P2WPKH</h4>"
   ]
  },
  {
   "cell_type": "markdown",
   "metadata": {},
   "source": [
    "<h4>P2WSH</h4>"
   ]
  },
  {
   "cell_type": "markdown",
   "metadata": {},
   "source": [
    "<h2>Unspent Transaction Output (UTXO)</h2>"
   ]
  },
  {
   "cell_type": "markdown",
   "metadata": {},
   "source": [
    "<h2>Create, Sign and Publish Transaction</h2>"
   ]
  },
  {
   "cell_type": "markdown",
   "metadata": {},
   "source": [
    "<h2>Metrics and Graphs</h2>"
   ]
  },
  {
   "cell_type": "markdown",
   "metadata": {},
   "source": [
    "<h2>Concept Implementations</h2>"
   ]
  },
  {
   "cell_type": "markdown",
   "metadata": {},
   "source": [
    "<h3>Escrow Implementation</h3>"
   ]
  },
  {
   "cell_type": "markdown",
   "metadata": {},
   "source": [
    "<h3>Passphrase generation as replacement for Private Key</h3>"
   ]
  },
  {
   "cell_type": "markdown",
   "metadata": {},
   "source": []
  }
 ],
 "metadata": {
  "celltoolbar": "Edit Metadata",
  "kernelspec": {
   "display_name": "Python 3",
   "language": "python",
   "name": "python3"
  },
  "language_info": {
   "codemirror_mode": {
    "name": "ipython",
    "version": 3
   },
   "file_extension": ".py",
   "mimetype": "text/x-python",
   "name": "python",
   "nbconvert_exporter": "python",
   "pygments_lexer": "ipython3",
   "version": "3.6.1"
  },
  "toc": {
   "base_numbering": 1,
   "nav_menu": {},
   "number_sections": true,
   "sideBar": true,
   "skip_h1_title": true,
   "title_cell": "Table of Contents",
   "title_sidebar": "Contents",
   "toc_cell": false,
   "toc_position": {},
   "toc_section_display": true,
   "toc_window_display": true
  }
 },
 "nbformat": 4,
 "nbformat_minor": 2
}
