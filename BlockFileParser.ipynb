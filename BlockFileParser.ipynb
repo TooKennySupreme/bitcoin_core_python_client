{
 "cells": [
  {
   "cell_type": "markdown",
   "metadata": {},
   "source": [
    "<h1>Block file parser</h1>"
   ]
  },
  {
   "cell_type": "markdown",
   "metadata": {},
   "source": [
    "<h2>Structure of Block</h2>\n",
    "<p>\n",
    "Block contains pre-header, header and transactions list.<br>\n",
    "Block header hash must meet difficulty criteria which can be calculated from \"Bits\" in block header. This is achieved by setting \"Nounce\" in block header.<br>\n",
    "For fields where bytes of value is [1-9 Bytes] such as Number of transactions, number of inputs in transaction, number of out in transaction:<br>\n",
    "<i>Less than 0xfd is 1 byte, 0xfd is 2 bytes, 0xfe is 4 bytes, 0xff is 8 bytes</i>\n",
    "</p>"
   ]
  },
  {
   "cell_type": "markdown",
   "metadata": {},
   "source": [
    "<h4>Building important Methods and Constants</h4>\n",
    "<p> Values in Bitcoin network is in Little Endian while most tools accepts and returns Big Endian values. This is taken care in below program</p>\n",
    "<br>"
   ]
  },
  {
   "cell_type": "code",
   "execution_count": 2,
   "metadata": {
    "collapsed": true
   },
   "outputs": [],
   "source": [
    "import os\n",
    "import glob\n",
    "import binascii\n",
    "import datetime\n",
    "import shutil\n",
    "import mmap\n",
    "import hashlib\n",
    "import json\n",
    "#from bitcoinrpc.authproxy import AuthServiceProxy, JSONRPCException\n",
    "\n",
    "BLOCK_PATH=os.path.join(os.getenv('HOME'), '.bitcoin', 'blocks')\n",
    "\n",
    "#rpc_connection = AuthServiceProxy(\"http://%s:%s@127.0.0.1:8332\"%('alice', 'passw0rd'))\n",
    "\n",
    "def getCount(count_bytes):\n",
    "        txn_size = int(binascii.hexlify(count_bytes[0:1]), 16)\n",
    "\n",
    "        if txn_size < 0xfd:\n",
    "                return txn_size\n",
    "        elif txn_size == 0xfd:\n",
    "                txn_size = int(binascii.hexlify(count_bytes[1:3][::-1]), 16)\n",
    "                return txn_size\n",
    "        elif txn_size == 0xfe:\n",
    "                txn_size = int(binascii.hexlify(count_bytes[1:5][::-1]), 16)\n",
    "                return txn_size\n",
    "        else:\n",
    "                txn_size = int(binascii.hexlify(count_bytes[1:9][::-1]), 16)\n",
    "                return txn_size\n",
    "\n",
    "def getCountBytes(mptr: mmap):\n",
    "        mptr_read = mptr.read(1)\n",
    "        count_bytes = mptr_read\n",
    "        txn_size = int(binascii.hexlify(mptr_read), 16)\n",
    "\n",
    "        if txn_size < 0xfd:\n",
    "                return count_bytes\n",
    "        elif txn_size == 0xfd:\n",
    "                mptr_read = mptr.read(2)\n",
    "                count_bytes += mptr_read\n",
    "                txn_size = int(binascii.hexlify(mptr_read[::-1]), 16)\n",
    "                return count_bytes\n",
    "        elif txn_size == 0xfe:\n",
    "                mptr_read = mptr.read(4)\n",
    "                count_bytes += mptr_read\n",
    "                txn_size = int(binascii.hexlify(mptr_read[::-1]), 16)\n",
    "                return count_bytes\n",
    "        else:\n",
    "                mptr_read = mptr.read(8)\n",
    "                count_bytes += mptr_read\n",
    "                txn_size = int(binascii.hexlify(mptr_read[::-1]), 16)\n",
    "                return count_bytes"
   ]
  },
  {
   "cell_type": "markdown",
   "metadata": {},
   "source": [
    "<h4>Block Pre-Header</h4>\n",
    "<p>\n",
    "[4 Bytes (Mainnet: F9 BE B4 D9 or 0xD9B4BEF9, Testnet: FA BF B5 DA or 0xDAB5BFFA)] Magic ID<br>\n",
    "[4 Bytes] Block length<br>\n",
    "</p>"
   ]
  },
  {
   "cell_type": "code",
   "execution_count": 3,
   "metadata": {
    "collapsed": true
   },
   "outputs": [],
   "source": [
    "def getBlockPreHeader(mptr: mmap):\n",
    "        block_pre_header = {}\n",
    "        block_pre_header['magic_number'] = bytes.decode(binascii.hexlify(mptr.read(4)[::-1]))\n",
    "        print('magic_number = %s' % block_pre_header['magic_number'])\n",
    "        block_pre_header['block_length'] = int(binascii.hexlify(mptr.read(4)[::-1]), 16)\n",
    "        return block_pre_header"
   ]
  },
  {
   "cell_type": "markdown",
   "metadata": {},
   "source": [
    "<h4>Block Header</h4>\n",
    "<p>\n",
    "[4 Bytes] Version<br>\n",
    "[32 Bytes] Previous Block Hash<br>\n",
    "[32 Bytes] Merkle Tree Root<br>\n",
    "[4 Bytes] Timestamp<br>\n",
    "[4 Bytes] Bits<br>\n",
    "[4 Bytes] Nounce<br>\n",
    "</p>"
   ]
  },
  {
   "cell_type": "code",
   "execution_count": 4,
   "metadata": {
    "collapsed": true
   },
   "outputs": [],
   "source": [
    "def getBlockHeader(mptr: mmap):\n",
    "        block_header = {}\n",
    "        block_header['block_version'] = int(binascii.hexlify(mptr.read(4)[::-1]), 16)\n",
    "        block_header['prev_block_hash'] = bytes.decode(binascii.hexlify(mptr.read(32)[::-1]))\n",
    "        block_header['merkle_tree_root'] = bytes.decode(binascii.hexlify(mptr.read(32)[::-1]))\n",
    "        block_header['timestamp'] = int(binascii.hexlify(mptr.read(4)[::-1]), 16)\n",
    "        block_header['date_time'] = datetime.datetime.fromtimestamp(block_header['timestamp']).strftime('%Y-%m-%d %H:%M:%S')\n",
    "        block_header['bits'] = bytes.decode(binascii.hexlify(mptr.read(4)[::-1]))\n",
    "        block_header['nounce'] = bytes.decode(binascii.hexlify(mptr.read(4)[::-1]))\n",
    "        return block_header"
   ]
  },
  {
   "cell_type": "markdown",
   "metadata": {},
   "source": [
    "<h4>Block Header Hash calculation</h4>"
   ]
  },
  {
   "cell_type": "code",
   "execution_count": 5,
   "metadata": {
    "collapsed": true
   },
   "outputs": [],
   "source": [
    "def getBlockHeaderHash(mptr: mmap, start: int):\n",
    "        seek = start + 8\n",
    "        mptr.seek(seek) ## ignore magic number and block size\n",
    "        block_header = mptr.read(80)\n",
    "        block_header_hash = hashlib.sha256(hashlib.sha256(block_header).digest()).digest()\n",
    "        return bytes.decode(binascii.hexlify(block_header_hash[::-1]))"
   ]
  },
  {
   "cell_type": "markdown",
   "metadata": {},
   "source": [
    "<h4>Number of Transactions</h4>\n",
    "<p>\n",
    "[1-9 Bytes] Number of Transactions<br>\n",
    "</p>"
   ]
  },
  {
   "cell_type": "code",
   "execution_count": 6,
   "metadata": {
    "collapsed": true
   },
   "outputs": [],
   "source": [
    "def getTransactionCount(mptr: mmap):\n",
    "        count_bytes = getCountBytes(mptr)\n",
    "        txn_count = getCount(count_bytes)\n",
    "        return txn_count"
   ]
  },
  {
   "cell_type": "markdown",
   "metadata": {},
   "source": [
    "<h4>Coinbase Transaction Format</h4>\n",
    "<p>\n",
    "[4 Bytes] version<br>\n",
    "[1-9 Bytes] Number of inputs<br>\n",
    "[1 Byte] If \"Number of inputs\" is zero then this byte if not zero denotes Segwit<br>\n",
    "[1-9 Bytes] If \"Number of inputs\" is zero then these bytes denote \"Number of inputs\"<br>\n",
    "-- For each input [Start]<br>\n",
    "-- [32 Bytes] Previous Transaction hash<br>\n",
    "-- [4 Bytes] Previous Transaction out index<br>\n",
    "-- [1-9 Bytes] Bytes in Coinbase data<br>\n",
    "-- [1-9 Bytes] Bytes in Height of this Block<br>\n",
    "-- [Bytes in Height] Height of this Block<br>\n",
    "-- [Remaining Bytes in Coinbase data] Coinbase Arbitrary Data<br>\n",
    "-- [4 Bytes] Sequence<br>\n",
    "-- [End]<br>\n",
    "[1-9 Bytes] Number of outs<br>\n",
    "-- For each out [Start]\n",
    "-- [8 Bytes] Amount in satoshis<br>\n",
    "-- [1-9 Bytes] Bytes in scriptpubkey<br>\n",
    "-- [Bytes in scriptpubkey] scriptpubkey<br>\n",
    "-- [End]<br>\n",
    "\n",
    "-- If Segwit byte is non-zero then for each input [Start]<br>\n",
    "-- [1-9 Bytes] Number of Witness<br>\n",
    "-- -- For Each Witness [Start]<br>\n",
    "-- -- [1-9] Bytes in Witness<br>\n",
    "-- -- [Bytes in Witness] Witness<br>\n",
    "-- -- [End]<br>\n",
    "-- [End]<br>\n",
    "[4] Locktime<br>\n",
    "</p>"
   ]
  },
  {
   "cell_type": "code",
   "execution_count": 7,
   "metadata": {
    "collapsed": true
   },
   "outputs": [],
   "source": [
    "def getCoinbaseTransaction(mptr: mmap):\n",
    "        txn = {}\n",
    "        txn_version = mptr.read(4)\n",
    "        txn['version'] = int(binascii.hexlify(txn_version[::-1]), 16)\n",
    "        count_bytes = getCountBytes(mptr)\n",
    "        input_count = getCount(count_bytes)\n",
    "        if input_count == 0:\n",
    "                # post segwit\n",
    "                txn['is_segwit'] = bool(int(binascii.hexlify(mptr.read(1)), 16))\n",
    "                count_bytes = getCountBytes(mptr)\n",
    "                txn['input_count'] = getCount(count_bytes)\n",
    "        else:\n",
    "                txn['input_count'] = input_count # this will be 1\n",
    "        txn['input'] = []\n",
    "        for index in range(txn['input_count']):\n",
    "                txn_input = {}\n",
    "                txn_input['prev_txn_hash'] = bytes.decode(binascii.hexlify(mptr.read(32)[::-1]))\n",
    "                txn_input['prev_txn_out_index'] = int(binascii.hexlify(mptr.read(4)[::-1]), 16)\n",
    "                count_bytes = getCountBytes(mptr)\n",
    "                txn_input['coinbase_data_size'] = getCount(count_bytes)\n",
    "                fptr1 = mptr.tell()\n",
    "                count_bytes = getCountBytes(mptr)\n",
    "                txn_input['coinbase_data_bytes_in_height'] = getCount(count_bytes)\n",
    "                txn_input['coinbase_data_block_height'] = int(binascii.hexlify(mptr.read(txn_input['coinbase_data_bytes_in_height'])[::-1]), 16)\n",
    "                fptr2 = mptr.tell()\n",
    "                arbitrary_data_size = txn_input['coinbase_data_size'] - (fptr2 - fptr1)\n",
    "                txn_input['coinbase_arbitrary_data'] = bytes.decode(binascii.hexlify(mptr.read(arbitrary_data_size)[::-1]))\n",
    "                txn_input['sequence'] = int(binascii.hexlify(mptr.read(4)[::-1]), 16)\n",
    "                txn['input'].append(txn_input)\n",
    "        count_bytes = getCountBytes(mptr)\n",
    "        txn['out_count'] = getCount(count_bytes)\n",
    "        txn['out'] = []\n",
    "        for index in range(txn['out_count']):\n",
    "                txn_out = {}\n",
    "                txn_out['satoshis'] = int(binascii.hexlify(mptr.read(8)[::-1]), 16)\n",
    "                count_bytes = getCountBytes(mptr)\n",
    "                txn_out['scriptpubkey_size'] = getCount(count_bytes)\n",
    "                txn_out['scriptpubkey'] = bytes.decode(binascii.hexlify(mptr.read(txn_out['scriptpubkey_size'])))\n",
    "                txn['out'].append(txn_out)\n",
    "        if 'is_segwit' in txn and txn['is_segwit'] == True:\n",
    "                for index in range(txn['input_count']):\n",
    "                        count_bytes = getCountBytes(mptr)\n",
    "                        txn['input'][index]['witness_count'] = getCount(count_bytes)\n",
    "                        txn['input'][index]['witness'] = []\n",
    "                        for inner_index in range(txn['input'][index]['witness_count']):\n",
    "                                txn_witness = {}\n",
    "                                count_bytes = getCountBytes(mptr)\n",
    "                                txn_witness['size'] = getCount(count_bytes)\n",
    "                                txn_witness['witness'] = bytes.decode(binascii.hexlify(mptr.read(txn_witness['size'])))\n",
    "                                txn['input'][index]['witness'].append(txn_witness)\n",
    "        txn['locktime'] = int(binascii.hexlify(mptr.read(4)[::-1]), 16)\n",
    "        return txn"
   ]
  },
  {
   "cell_type": "markdown",
   "metadata": {},
   "source": [
    "<h4>Other Transaction Format</h4>\n",
    "<p>\n",
    "[4 Bytes] version<br>\n",
    "[1-9 Bytes] Number of inputs<br>\n",
    "[1 Byte] If \"Number of inputs\" is zero then this byte if not zero denotes Segwit<br>\n",
    "[1-9 Bytes] If \"Number of inputs\" is zero then these bytes denote \"Number of inputs\"<br>\n",
    "-- For each input [Start]<br>\n",
    "-- [32 Bytes] Previous Transaction hash<br>\n",
    "-- [4 Bytes] Previous Transaction out index<br>\n",
    "-- [1-9 Bytes] Bytes in scriptsig<br>\n",
    "-- [Bytes in scriptsig] scriptsig<br>\n",
    "-- [4 Bytes] Sequence<br>\n",
    "-- [End]<br>\n",
    "[1-9 Bytes] Number of outs<br>\n",
    "-- For each out [Start]\n",
    "-- [8 Bytes] Amount in satoshis<br>\n",
    "-- [1-9 Bytes] Bytes in scriptpubkey<br>\n",
    "-- [Bytes in scriptpubkey] scriptpubkey<br>\n",
    "-- [End]<br>\n",
    "\n",
    "-- If Segwit byte is non-zero then for each input [Start]<br>\n",
    "-- [1-9 Bytes] Number of Witness<br>\n",
    "-- -- For Each Witness [Start]<br>\n",
    "-- -- [1-9] Bytes in Witness<br>\n",
    "-- -- [Bytes in Witness] Witness<br>\n",
    "-- -- [End]<br>\n",
    "-- [End]<br>\n",
    "[4] Locktime<br>\n",
    "</p>"
   ]
  },
  {
   "cell_type": "code",
   "execution_count": 9,
   "metadata": {
    "collapsed": true
   },
   "outputs": [],
   "source": [
    "def getTxnHash(txn: bytes):\n",
    "        txn_hash = hashlib.sha256(hashlib.sha256(txn).digest()).digest()\n",
    "        return bytes.decode(binascii.hexlify(txn_hash[::-1]))\n",
    "\n",
    "def getTransaction(mptr: mmap):\n",
    "        txn = {}\n",
    "        mptr_read = mptr.read(4)\n",
    "        raw_txn = mptr_read\n",
    "        txn['version'] = int(binascii.hexlify(mptr_read[::-1]), 16)\n",
    "        mptr_read = getCountBytes(mptr)\n",
    "        input_count = getCount(mptr_read)\n",
    "        if input_count == 0:\n",
    "                # post segwit\n",
    "                txn['is_segwit'] = bool(int(binascii.hexlify(mptr.read(1)), 16))\n",
    "                mptr_read = getCountBytes(mptr)\n",
    "                txn['input_count'] = getCount(mptr_read)\n",
    "        else:\n",
    "                txn['input_count'] = input_count\n",
    "        raw_txn += mptr_read\n",
    "\n",
    "        txn['input'] = []\n",
    "        for index in range(txn['input_count']):\n",
    "                txn_input = {}\n",
    "                mptr_read = mptr.read(32)\n",
    "                raw_txn += mptr_read\n",
    "                txn_input['prev_txn_hash'] = bytes.decode(binascii.hexlify(mptr_read[::-1]))\n",
    "                mptr_read = mptr.read(4)\n",
    "                raw_txn += mptr_read\n",
    "                txn_input['prev_txn_out_index'] = int(binascii.hexlify(mptr_read[::-1]), 16)\n",
    "                mptr_read = getCountBytes(mptr)\n",
    "                raw_txn += mptr_read\n",
    "                txn_input['scriptsig_size'] = getCount(mptr_read)\n",
    "                mptr_read = mptr.read(txn_input['scriptsig_size'])\n",
    "                raw_txn += mptr_read\n",
    "                txn_input['scriptsig'] = bytes.decode(binascii.hexlify(mptr_read))\n",
    "                mptr_read = mptr.read(4)\n",
    "                raw_txn += mptr_read\n",
    "                txn_input['sequence'] = int(binascii.hexlify(mptr_read[::-1]), 16)\n",
    "                txn['input'].append(txn_input)\n",
    "        mptr_read = getCountBytes(mptr)\n",
    "        raw_txn += mptr_read\n",
    "        txn['out_count'] = getCount(mptr_read)\n",
    "        txn['out'] = []\n",
    "        for index in range(txn['out_count']):\n",
    "                txn_out = {}\n",
    "                mptr_read = mptr.read(8)\n",
    "                raw_txn += mptr_read\n",
    "                txn_out['_satoshis'] = int(binascii.hexlify(mptr_read[::-1]), 16)\n",
    "                mptr_read = getCountBytes(mptr)\n",
    "                raw_txn += mptr_read\n",
    "                txn_out['scriptpubkey_size'] = getCount(mptr_read)\n",
    "                mptr_read = mptr.read(txn_out['scriptpubkey_size'])\n",
    "                raw_txn += mptr_read\n",
    "                txn_out['scriptpubkey'] = bytes.decode(binascii.hexlify(mptr_read))\n",
    "                txn['out'].append(txn_out)\n",
    "        if 'is_segwit' in txn and txn['is_segwit'] == True:\n",
    "                for index in range(txn['input_count']):\n",
    "                        mptr_read = getCountBytes(mptr)\n",
    "                        txn['input'][index]['witness_count'] = getCount(mptr_read)\n",
    "                        txn['input'][index]['witness'] = []\n",
    "                        for inner_index in range(txn['input'][index]['witness_count']):\n",
    "                                txn_witness = {}\n",
    "                                mptr_read = getCountBytes(mptr)\n",
    "                                txn_witness['size'] = getCount(mptr_read)\n",
    "                                txn_witness['witness'] = bytes.decode(binascii.hexlify(mptr.read(txn_witness['size'])))\n",
    "                                txn['input'][index]['witness'].append(txn_witness)\n",
    "        mptr_read = mptr.read(4)\n",
    "        raw_txn += mptr_read\n",
    "        txn['locktime'] = int(binascii.hexlify(mptr_read[::-1]), 16)\n",
    "        txn['txn_hash'] = getTxnHash(raw_txn)\n",
    "\n",
    "#        check_raw_txn = rpc_connection.getrawtransaction(txn['txn_hash'])\n",
    "#        print('checked raw txn = %s' % check_raw_txn)\n",
    "#        print('txn_hash = %s' % txn['txn_hash'])\n",
    "        return txn"
   ]
  },
  {
   "cell_type": "markdown",
   "metadata": {},
   "source": [
    "<h4>Building Block in JSON</h4>"
   ]
  },
  {
   "cell_type": "code",
   "execution_count": 10,
   "metadata": {
    "collapsed": true
   },
   "outputs": [],
   "source": [
    "def getBlock(mptr: mmap, start: int):\n",
    "        block = {}\n",
    "        block['block_header_hash'] = getBlockHeaderHash(mptr, start)\n",
    "        print('block_header_hash = %s' % block['block_header_hash'])\n",
    "\n",
    "        mptr.seek(start) ## ignore magic number and block size\n",
    "        block['block_pre_header'] = getBlockPreHeader(mptr)\n",
    "        if block['block_pre_header']['magic_number'] == '00000000':\n",
    "                raise EOFError\n",
    "        block['block_header'] = getBlockHeader(mptr)\n",
    "        block['txn_count'] = getTransactionCount(mptr)\n",
    "\n",
    "        txn_list = []\n",
    "        txn_list.append(getCoinbaseTransaction(mptr))\n",
    "        for index in range(1, block['txn_count']):\n",
    "                txn = getTransaction(mptr)\n",
    "                txn_list.append(txn)\n",
    "        block['txn_list'] = txn_list\n",
    "        return block"
   ]
  },
  {
   "cell_type": "markdown",
   "metadata": {},
   "source": [
    "<h4>Building Block file parser</h4>"
   ]
  },
  {
   "cell_type": "code",
   "execution_count": null,
   "metadata": {
    "collapsed": true
   },
   "outputs": [],
   "source": [
    "def blockFileParser():\n",
    "        with open('blk01231.dat', 'rb') as latest_block_file:\n",
    "                # load file to memory\n",
    "                mptr = mmap.mmap(latest_block_file.fileno(), 0, prot=mmap.PROT_READ) #File is open read-only\n",
    "\n",
    "                block_file = []\n",
    "                try:\n",
    "                        while True:\n",
    "                                start = mptr.tell()\n",
    "                                block_file.append(getBlock(mptr, start))\n",
    "                except EOFError:\n",
    "                        pass\n",
    "                print(json.dumps(block_file, indent=4))"
   ]
  }
 ],
 "metadata": {
  "kernelspec": {
   "display_name": "Python 3",
   "language": "python",
   "name": "python3"
  },
  "language_info": {
   "codemirror_mode": {
    "name": "ipython",
    "version": 3
   },
   "file_extension": ".py",
   "mimetype": "text/x-python",
   "name": "python",
   "nbconvert_exporter": "python",
   "pygments_lexer": "ipython3",
   "version": "3.6.1"
  },
  "toc": {
   "base_numbering": 1,
   "nav_menu": {},
   "number_sections": true,
   "sideBar": true,
   "skip_h1_title": false,
   "title_cell": "Table of Contents",
   "title_sidebar": "Contents",
   "toc_cell": false,
   "toc_position": {},
   "toc_section_display": true,
   "toc_window_display": true
  }
 },
 "nbformat": 4,
 "nbformat_minor": 2
}
